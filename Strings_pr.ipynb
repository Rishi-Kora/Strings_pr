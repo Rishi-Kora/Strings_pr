{
  "nbformat": 4,
  "nbformat_minor": 0,
  "metadata": {
    "colab": {
      "provenance": [],
      "authorship_tag": "ABX9TyOgyO+I2/frU4iPpuwWGR2q"
    },
    "kernelspec": {
      "name": "python3",
      "display_name": "Python 3"
    },
    "language_info": {
      "name": "python"
    }
  },
  "cells": [
    {
      "cell_type": "markdown",
      "source": [
        "```\n",
        "You are given a string ‘s’. Your task is to tell whether string is beautiful or not.\n",
        "A beautiful string is a string in which String starts with ‘a’ or ‘A’ and middle element is either ‘m’ or ‘M’ and last element is ‘z’or ‘Z’\n",
        "\n",
        "Input Description:\n",
        "You are given a string ‘s’.\n",
        "\n",
        "Output Description:\n",
        "Print 1 if string is beautiful and 0 if it is not\n",
        "\n",
        "Sample Input :\n",
        "Amz\n",
        "Sample Output :\n",
        "1\n",
        "```"
      ],
      "metadata": {
        "id": "oKV1yNvPdWWp"
      }
    },
    {
      "cell_type": "code",
      "execution_count": null,
      "metadata": {
        "colab": {
          "base_uri": "https://localhost:8080/"
        },
        "id": "uLzDgp7MdSDO",
        "outputId": "e42f7937-b7a9-4e2d-825b-b7835bb0fb09"
      },
      "outputs": [
        {
          "output_type": "stream",
          "name": "stdout",
          "text": [
            "Enter a string: Rishi\n",
            "0\n"
          ]
        }
      ],
      "source": [
        "s = input(\"Enter a string: \")\n",
        "if s[0] == \"A\" or s[0] == \"a\":\n",
        "  if s[-1] == \"z\" or s[-1] == \"Z\":\n",
        "    if \"m\" in s or \"M\" in s:\n",
        "      print(1)\n",
        "    else:\n",
        "      print(0)\n",
        "  else:\n",
        "    print(0)\n",
        "else:\n",
        "  print(0)\n"
      ]
    },
    {
      "cell_type": "markdown",
      "source": [
        "Given a string s, reverse the string and print it"
      ],
      "metadata": {
        "id": "wAfE9oWxnDmY"
      }
    },
    {
      "cell_type": "code",
      "source": [
        "s = input(\"Enter a string: \")\n",
        "c = list(s)\n",
        "c.reverse()\n",
        "x = \"\".join(c)\n",
        "print(x)"
      ],
      "metadata": {
        "colab": {
          "base_uri": "https://localhost:8080/"
        },
        "id": "LYpmsDcEfVAT",
        "outputId": "545903a4-27bc-499a-9db2-910b2042e941"
      },
      "execution_count": null,
      "outputs": [
        {
          "output_type": "stream",
          "name": "stdout",
          "text": [
            "Enter a string: London\n",
            "nodnoL\n"
          ]
        }
      ]
    },
    {
      "cell_type": "markdown",
      "source": [
        "```\n",
        "Given a string/sentence print its corresponding camelcase convention.\n",
        "Input Size : |s| <= 1000000(complexity O(n))\n",
        "\n",
        "Sample Testcase :\n",
        "\n",
        "INPUT\n",
        "guvi geeks\n",
        "\n",
        "OUTPUT\n",
        "GuviGeeks\n",
        "```"
      ],
      "metadata": {
        "id": "yruVdM4ireUr"
      }
    },
    {
      "cell_type": "code",
      "source": [
        "!pip install camelcase"
      ],
      "metadata": {
        "colab": {
          "base_uri": "https://localhost:8080/"
        },
        "id": "QZqwH7imnL00",
        "outputId": "41243e21-a28c-46c9-9e80-2d49b533f7ee"
      },
      "execution_count": 2,
      "outputs": [
        {
          "output_type": "stream",
          "name": "stdout",
          "text": [
            "Collecting camelcase\n",
            "  Downloading camelcase-0.2.tar.gz (1.3 kB)\n",
            "  Preparing metadata (setup.py) ... \u001b[?25l\u001b[?25hdone\n",
            "Building wheels for collected packages: camelcase\n",
            "  Building wheel for camelcase (setup.py) ... \u001b[?25l\u001b[?25hdone\n",
            "  Created wheel for camelcase: filename=camelcase-0.2-py3-none-any.whl size=1772 sha256=a16e5bf1c703febed5a329f4c73bc0e965112611f846157dcfa0bd8b02e12759\n",
            "  Stored in directory: /root/.cache/pip/wheels/89/69/2b/bb16b6766a74942bfbd1e0db55e3c0f3d80c3463ad6b4dc4d4\n",
            "Successfully built camelcase\n",
            "Installing collected packages: camelcase\n",
            "Successfully installed camelcase-0.2\n"
          ]
        }
      ]
    },
    {
      "cell_type": "code",
      "source": [
        "from camelcase import CamelCase\n",
        "text = input(\"Enter the text: \")\n",
        "c = CamelCase()\n",
        "print (c.hump(text))"
      ],
      "metadata": {
        "colab": {
          "base_uri": "https://localhost:8080/"
        },
        "id": "w5ayeU9HJrlE",
        "outputId": "aa814647-aec6-4db8-cf0a-a6cdd516566c"
      },
      "execution_count": 3,
      "outputs": [
        {
          "output_type": "stream",
          "name": "stdout",
          "text": [
            "Enter the text: this is a sentence that needs CamelCasing!\n",
            "This is a Sentence That Needs CamelCasing!\n"
          ]
        }
      ]
    },
    {
      "cell_type": "markdown",
      "source": [
        "```\n",
        "Given a string S of length N, reverse the case of each letter.\n",
        "\n",
        "Input Size : N <= 100\n",
        "\n",
        "Sample Testcase :\n",
        "\n",
        "INPUT\n",
        "HeLlo\n",
        "\n",
        "OUTPUT\n",
        "hElLO\n",
        "```"
      ],
      "metadata": {
        "id": "Gpj25Zu9uyt_"
      }
    },
    {
      "cell_type": "code",
      "source": [
        "s = input()\n",
        "s.swapcase()"
      ],
      "metadata": {
        "colab": {
          "base_uri": "https://localhost:8080/",
          "height": 53
        },
        "id": "x4yeMPpzsorr",
        "outputId": "6b266a00-d201-403f-8a64-770aa84e6f43"
      },
      "execution_count": null,
      "outputs": [
        {
          "name": "stdout",
          "output_type": "stream",
          "text": [
            "HeLlo\n"
          ]
        },
        {
          "output_type": "execute_result",
          "data": {
            "text/plain": [
              "'hElLO'"
            ],
            "application/vnd.google.colaboratory.intrinsic+json": {
              "type": "string"
            }
          },
          "metadata": {},
          "execution_count": 67
        }
      ]
    },
    {
      "cell_type": "markdown",
      "source": [
        "Take two inputs a,b. Find how many times a is present in b. If no a is found then print(-1)"
      ],
      "metadata": {
        "id": "v-QkRmG7xn6U"
      }
    },
    {
      "cell_type": "code",
      "source": [
        "a =input(\"Enter A Value\")\n",
        "b = input(\"Enter B Value\")\n",
        "if a.count(b) > 0:\n",
        "  print(a.count(b))\n",
        "else:\n",
        "  print(-1)\n"
      ],
      "metadata": {
        "colab": {
          "base_uri": "https://localhost:8080/"
        },
        "id": "WXD44F32xQ4T",
        "outputId": "c39e354b-7872-4115-ded8-7a30214e3b3e"
      },
      "execution_count": 9,
      "outputs": [
        {
          "output_type": "stream",
          "name": "stdout",
          "text": [
            "Enter A Valueas in as\n",
            "Enter B Valueas\n",
            "2\n"
          ]
        }
      ]
    },
    {
      "cell_type": "markdown",
      "source": [
        "```\n",
        "You are given a string ‘s’.\n",
        "Your task is to find whether string is beautiful or not.\n",
        "A string is said to be beautiful whenever string is made up of only three characters.\n",
        "All the three characters must be distinct. Print true if string is beautiful and false when it is not beautiful\n",
        "\n",
        "Input Description:\n",
        "You are given a string\n",
        "\n",
        "Output Description:\n",
        "Print ‘1’ when string is beautiful and ‘0’ when it is not\n",
        "\n",
        "Sample Input :\n",
        "Aab\n",
        "Sample Output :\n",
        "1\n",
        "```"
      ],
      "metadata": {
        "id": "RADMKE1U2snu"
      }
    },
    {
      "cell_type": "code",
      "source": [
        "s = input(\"Enter a string: \")\n",
        "if len(s) == 3:\n",
        "  if s[0] != s[1] and s[0] != s[2] and s[1] != s[2]:\n",
        "    print(1)\n",
        "  else:\n",
        "    print(0)\n",
        "else:\n",
        "  print(0)\n"
      ],
      "metadata": {
        "colab": {
          "base_uri": "https://localhost:8080/"
        },
        "id": "XUwirBcnyd-p",
        "outputId": "33ce63d5-7d55-42ea-aacd-6688ed88c3f5"
      },
      "execution_count": null,
      "outputs": [
        {
          "output_type": "stream",
          "name": "stdout",
          "text": [
            "Enter a string: ker\n",
            "1\n"
          ]
        }
      ]
    },
    {
      "cell_type": "markdown",
      "source": [
        "```\n",
        "Given a sentence and string S, find how many times S occurs in the given sentence.If S is not found in the sentence print -1\n",
        "Input Size : |sentence| <= 1000000(complexity O(n)).\n",
        "Sample Testcase :\n",
        "INPUT\n",
        "I enjoy doing codekata\n",
        "codekata\n",
        "OUTPUT\n",
        "1\n",
        "```"
      ],
      "metadata": {
        "id": "_A-5s_qQ5qRH"
      }
    },
    {
      "cell_type": "code",
      "source": [
        "sentence = input()\n",
        "s = input()\n",
        "if s not in sentence:\n",
        "  print(-1)\n",
        "else:\n",
        "  print(1)"
      ],
      "metadata": {
        "colab": {
          "base_uri": "https://localhost:8080/"
        },
        "id": "WeUh935R5IPi",
        "outputId": "d27c38f4-37df-4bf3-c75e-e978b51b95bd"
      },
      "execution_count": null,
      "outputs": [
        {
          "output_type": "stream",
          "name": "stdout",
          "text": [
            "I enjoy doing codekata\n",
            "codekata\n",
            "1\n"
          ]
        }
      ]
    },
    {
      "cell_type": "markdown",
      "source": [
        "```\n",
        "Given a string S, find its length(including the spaces)without using any pre-defined functions.\n",
        "\n",
        "Sample Testcase :\n",
        "\n",
        "INPUT\n",
        "codekata\n",
        "\n",
        "OUTPUT\n",
        "8\n",
        "```"
      ],
      "metadata": {
        "id": "PwjyWy7LTOG_"
      }
    },
    {
      "cell_type": "code",
      "source": [
        "s = input()\n",
        "count = 0\n",
        "for i in s:\n",
        "  count+=1\n",
        "print(count)"
      ],
      "metadata": {
        "colab": {
          "base_uri": "https://localhost:8080/"
        },
        "id": "zCPu6oj_RdFR",
        "outputId": "a8f6ef3d-fb25-4de6-f0e4-07576a9ff321"
      },
      "execution_count": null,
      "outputs": [
        {
          "output_type": "stream",
          "name": "stdout",
          "text": [
            "codekata\n",
            "8\n"
          ]
        }
      ]
    },
    {
      "cell_type": "markdown",
      "source": [
        "```\n",
        "Given a string S, print it without using semicolon in your program.\n",
        "Sample Testcase :\n",
        "INPUT\n",
        "hello world\n",
        "OUTPUT\n",
        "hello world\n",
        "```"
      ],
      "metadata": {
        "id": "9UtFY2VLW9_j"
      }
    },
    {
      "cell_type": "code",
      "source": [
        "s = input()\n",
        "print(s)"
      ],
      "metadata": {
        "colab": {
          "base_uri": "https://localhost:8080/"
        },
        "id": "CFgPLqvPTZYt",
        "outputId": "415ee585-d519-4d91-a809-52298170bef6"
      },
      "execution_count": null,
      "outputs": [
        {
          "output_type": "stream",
          "name": "stdout",
          "text": [
            "hello world\n",
            "hello world\n"
          ]
        }
      ]
    },
    {
      "cell_type": "markdown",
      "source": [
        "```\n",
        "Given a string S.Validate if a given string is numeric.print 'yes' if it is a numeric otherwise print 'no'.\n",
        "Sample Testcase :\n",
        "INPUT\n",
        "guvigeeks\n",
        "OUTPUT\n",
        "no\n",
        "```"
      ],
      "metadata": {
        "id": "SsxLwOskX3xg"
      }
    },
    {
      "cell_type": "code",
      "source": [
        "s = input()\n",
        "if s.isdigit():\n",
        "  print(\"yes\")\n",
        "else:\n",
        "  print(\"no\")"
      ],
      "metadata": {
        "colab": {
          "base_uri": "https://localhost:8080/"
        },
        "id": "OMe6GilaXFdr",
        "outputId": "01c5831a-7ccc-418e-de3c-bff256d57204"
      },
      "execution_count": null,
      "outputs": [
        {
          "output_type": "stream",
          "name": "stdout",
          "text": [
            "guvigeeks\n",
            "no\n"
          ]
        }
      ]
    },
    {
      "cell_type": "markdown",
      "source": [
        "```\n",
        "Given a string S, print 'yes' if the strings 'GUVI' and 'GEEK' is present case-sensitively in the string else print 'no'.\n",
        "Input Size : 1 <= 100\n",
        "Sample Testcase :\n",
        "INPUT\n",
        "Vishal_Sundar prepared this question\n",
        "OUTPUT\n",
        "no\n",
        "```"
      ],
      "metadata": {
        "id": "3yirJRyDbhIx"
      }
    },
    {
      "cell_type": "code",
      "source": [
        "s = input()\n",
        "if s == \"GUVI\" and \"GEEK\":\n",
        "  print(\"yes\")\n",
        "else:\n",
        "  print(\"no\")\n"
      ],
      "metadata": {
        "colab": {
          "base_uri": "https://localhost:8080/"
        },
        "id": "F2YBq_ufaXq1",
        "outputId": "7e68e597-adda-421b-a2cf-7b54fee458a3"
      },
      "execution_count": null,
      "outputs": [
        {
          "output_type": "stream",
          "name": "stdout",
          "text": [
            "Vishal_Sundar prepared this question\n",
            "no\n"
          ]
        }
      ]
    },
    {
      "cell_type": "markdown",
      "source": [
        "```\n",
        "Given a date(DD-MM-YYYY),print the month in words.\n",
        "Sample Testcase :\n",
        "INPUT\n",
        "01-01-2018\n",
        "OUTPUT\n",
        "January\n",
        "```"
      ],
      "metadata": {
        "id": "bq9VIwcGmWGx"
      }
    },
    {
      "cell_type": "code",
      "source": [
        "date = input(\"Enter the date in DD-MM-YYYY: \")\n",
        "date1 = int(str(date[3:5]))\n",
        "match date1:\n",
        "    case 1:\n",
        "        print(\"January\")\n",
        "    case 2:\n",
        "      print(\"February\")\n",
        "    case 3:\n",
        "      print(\"March\")\n",
        "    case 4:\n",
        "      print(\"April\")\n",
        "    case 5:\n",
        "      print(\"May\")\n",
        "    case 6:\n",
        "      print(\"June\")\n",
        "    case 7:\n",
        "      print(\"July\")\n",
        "    case 8:\n",
        "      print(\"August\")\n",
        "    case 9:\n",
        "      print(\"September\")\n",
        "    case 10:\n",
        "      print(\"October\")\n",
        "    case 11:\n",
        "      print(\"November\")\n",
        "    case 12:\n",
        "      print(\"December\")"
      ],
      "metadata": {
        "colab": {
          "base_uri": "https://localhost:8080/"
        },
        "id": "7adZW79Nj1nR",
        "outputId": "7ce0d606-8ab5-4be0-8243-026247562bca"
      },
      "execution_count": null,
      "outputs": [
        {
          "output_type": "stream",
          "name": "stdout",
          "text": [
            "Enter the date in DD-MM-YYYY: 01-01-2018\n",
            "January\n"
          ]
        }
      ]
    },
    {
      "cell_type": "markdown",
      "source": [
        "```\n",
        "Given a String S and a string P, find if P is a substring of S. Print 'yes' if it is a substring else 'no'. Input Size : |s| <= 10000 |p| <= 1000.\n",
        "Sample Testcase :\n",
        "INPUT\n",
        "sundar sun\n",
        "OUTPUT\n",
        "yes\n",
        "```"
      ],
      "metadata": {
        "id": "hD5_-XJjyphq"
      }
    },
    {
      "cell_type": "code",
      "source": [
        "s = input()\n",
        "p = input()\n",
        "if p in s:\n",
        "  print(\"yes\")\n",
        "else:\n",
        "  print(\"no\")"
      ],
      "metadata": {
        "colab": {
          "base_uri": "https://localhost:8080/"
        },
        "id": "B9u5vhiEoBmS",
        "outputId": "4e2542e8-4bd9-4734-d845-ae26205d35a6"
      },
      "execution_count": null,
      "outputs": [
        {
          "output_type": "stream",
          "name": "stdout",
          "text": [
            "sundar\n",
            "sun\n",
            "yes\n"
          ]
        }
      ]
    },
    {
      "cell_type": "markdown",
      "source": [
        "```\n",
        "Given 2 strings S1 and S2. Find if String2 is substring of String1. If it is print the index of the first occurrence. else print -1.\n",
        "Input Size : 1<= N <= 100000\n",
        "\n",
        "Sample Testcases:\n",
        "\n",
        "INPUT\n",
        "test123string\n",
        "123\n",
        "\n",
        "OUTPUT\n",
        "4\n",
        "```"
      ],
      "metadata": {
        "id": "uD8R0qY10tVP"
      }
    },
    {
      "cell_type": "code",
      "source": [
        "str1 = input()\n",
        "str2 = input()\n",
        "if str2 in str1:\n",
        "  str1.index(str1[6:])\n",
        "else:\n",
        "  print(-1)"
      ],
      "metadata": {
        "colab": {
          "base_uri": "https://localhost:8080/"
        },
        "id": "DWwX9yHf5Uze",
        "outputId": "cb9740b1-7e28-4011-9b8a-a84b87df50ef"
      },
      "execution_count": null,
      "outputs": [
        {
          "name": "stdout",
          "output_type": "stream",
          "text": [
            "test123string\n",
            "123\n"
          ]
        }
      ]
    },
    {
      "cell_type": "markdown",
      "source": [
        "```\n",
        "Indian PAN card issuing authority have found some fake PAN cards. They have hired you so that you can validate PAN card for them. Your task is to develop a suitable algorithm which could check if pan is valid or not\n",
        "\n",
        "1)Pan must have uppercase letters only.\n",
        "\n",
        "2)It must be of 10 character only\n",
        "\n",
        "3)From index 1 to 5 all must be letters(A-Z),last index must be letter\n",
        "\n",
        "4)Rest all must be integer Starting from 1\n",
        "\n",
        "Input Description:\n",
        "You are given a input string which indicates the PAN number\n",
        "\n",
        "Output Description:\n",
        "Print 'pan' if it is valid PAN number, else print 'not pan'\n",
        "\n",
        "Sample Input :\n",
        "HXTPS2142R\n",
        "Sample Output :\n",
        "pan\n",
        "```"
      ],
      "metadata": {
        "id": "c7ojwr1K4uja"
      }
    },
    {
      "cell_type": "code",
      "source": [
        "n=input()\n",
        "s=False\n",
        "if len(n)==10 and n.upper():\n",
        "    if n[9] not in range(0,9):\n",
        "        s=True\n",
        "    if n[0:5].isalnum():\n",
        "        s=False\n",
        "    if \"0\"in n:\n",
        "        s=False\n",
        "    if n[5:9].isnumeric():\n",
        "        s=True\n",
        "if s:\n",
        "    print(\"pan\")\n",
        "else:\n",
        "    print(\"not pan\")"
      ],
      "metadata": {
        "colab": {
          "base_uri": "https://localhost:8080/"
        },
        "id": "y9IenELt2hUp",
        "outputId": "8c2e9456-4f0a-44d8-dba4-762993917d6d"
      },
      "execution_count": null,
      "outputs": [
        {
          "output_type": "stream",
          "name": "stdout",
          "text": [
            "HXTPS2142R\n",
            "pan\n"
          ]
        }
      ]
    },
    {
      "cell_type": "markdown",
      "source": [
        "```\n",
        "Given a string S, print 2 strings such that first string containing all characters in odd position(s) and other containing all characters in even position(s).\n",
        "Sample Testcase :\n",
        "INPUT\n",
        "XCODE\n",
        "OUTPUT\n",
        "XOE CD\n",
        "```"
      ],
      "metadata": {
        "id": "s774Eqg_23tt"
      }
    },
    {
      "cell_type": "code",
      "source": [
        "s = input()\n",
        "even = []\n",
        "odd = []\n",
        "for i in range(0, len(s), 2):\n",
        "  even.append(s[i])\n",
        "for i in range(1, len(s), 2):\n",
        "  odd.append(s[i])\n",
        "print(*even,\" \",*odd)\n"
      ],
      "metadata": {
        "colab": {
          "base_uri": "https://localhost:8080/"
        },
        "id": "blQs6_v56Tq5",
        "outputId": "0d3fdfd2-48ec-42d6-bcf4-4005d249c283"
      },
      "execution_count": null,
      "outputs": [
        {
          "output_type": "stream",
          "name": "stdout",
          "text": [
            "XCODE\n",
            "X O E   C D\n"
          ]
        }
      ]
    },
    {
      "cell_type": "markdown",
      "source": [
        "```\n",
        "Given a input string S, reverse the given string by appending each character of the string with '-'.\n",
        "Input Size : |S| <= 100000\n",
        "Sample Testcase :\n",
        "INPUT\n",
        "codekata\n",
        "OUTPUT\n",
        "a-t-a-k-e-d-o-c\n",
        "```"
      ],
      "metadata": {
        "id": "CFTGQO6N3Z6G"
      }
    },
    {
      "cell_type": "code",
      "source": [
        "s = input()\n",
        "s1= []\n",
        "for i in range(-1, len(s)):\n",
        "  s1.append(s[i])\n",
        "  x = \"-\".join(s1)\n",
        "print(*x)"
      ],
      "metadata": {
        "colab": {
          "base_uri": "https://localhost:8080/"
        },
        "id": "Qo0P71LKnYqi",
        "outputId": "cf80360e-cd85-4938-8a9b-68dda169110d"
      },
      "execution_count": null,
      "outputs": [
        {
          "output_type": "stream",
          "name": "stdout",
          "text": [
            "rishi\n",
            "i - r - i - s - h - i\n"
          ]
        }
      ]
    },
    {
      "cell_type": "markdown",
      "source": [
        "```\n",
        "Given a number N and a number K, check if it has all digits from 0 to k in it.\n",
        "Input Size : N <= 100000\n",
        "Sample Testcase :\n",
        "INPUT\n",
        "1234034 4\n",
        "OUTPUT\n",
        "yes\n",
        "```"
      ],
      "metadata": {
        "id": "YbeWwOL23w-v"
      }
    },
    {
      "cell_type": "code",
      "source": [
        "n = input()\n",
        "k = int(input())\n",
        "if n == k:\n",
        "    print(\"yes\")\n",
        "else:\n",
        "    print(\"no\")"
      ],
      "metadata": {
        "colab": {
          "base_uri": "https://localhost:8080/"
        },
        "id": "snKb9TP4QFss",
        "outputId": "8a2a4bcf-4694-4f39-e05f-ed04ce1ffeec"
      },
      "execution_count": null,
      "outputs": [
        {
          "output_type": "stream",
          "name": "stdout",
          "text": [
            "1234034\n",
            "4\n",
            "no\n"
          ]
        }
      ]
    },
    {
      "cell_type": "markdown",
      "source": [
        "```\n",
        "Given a string two strings S1 and S2, remove characters from the S1 which are present in the S2.If S1 becomes empty then print -1\n",
        "Input Size : N <= 100000\n",
        "Sample Testcase :\n",
        "INPUT\n",
        "GUVI GEEK\n",
        "OUTPUT\n",
        "UVI\n",
        "```"
      ],
      "metadata": {
        "id": "3sXguuws32uj"
      }
    },
    {
      "cell_type": "markdown",
      "source": [
        "```\n",
        "Given a number N,check whether it has repeating digits in it.print 'yes' if it has repeating digits otherwise print 'no'.\n",
        "Sample Testcase :\n",
        "INPUT\n",
        "11234\n",
        "OUTPUT\n",
        "yes\n",
        "```"
      ],
      "metadata": {
        "id": "myHyWiYh37E6"
      }
    },
    {
      "cell_type": "code",
      "source": [
        "num = input()\n",
        "if num.count(n)==1:\n",
        "    print(\"yes\")\n",
        "else:\n",
        "    print(\"no\")"
      ],
      "metadata": {
        "colab": {
          "base_uri": "https://localhost:8080/"
        },
        "id": "TFyZDP72q50X",
        "outputId": "17466a6b-b826-4903-efb9-aacafeb10165"
      },
      "execution_count": null,
      "outputs": [
        {
          "output_type": "stream",
          "name": "stdout",
          "text": [
            "11234\n",
            "yes\n"
          ]
        }
      ]
    },
    {
      "cell_type": "markdown",
      "source": [
        "Take two inputs a,b. Find how many times a is presnt in b. If no a is found then print(-1)"
      ],
      "metadata": {
        "id": "H2lY6JN04AlI"
      }
    },
    {
      "cell_type": "markdown",
      "source": [
        "```\n",
        "Given 2 strings,check whether they have any common characters.If found print 'yes' else print 'no'.\n",
        "Input Size : |s| <= 100000(O(n))\n",
        "Sample Testcase :\n",
        "INPUT\n",
        "guvi guvigeeks\n",
        "OUTPUT\n",
        "yes\n",
        "```"
      ],
      "metadata": {
        "id": "SvGpC1xe4MVv"
      }
    },
    {
      "cell_type": "code",
      "source": [
        "s1 = input()\n",
        "s2 = input()\n",
        "k = list(set(s1)&set(s2))\n",
        "if i in k:\n",
        "  print(\"yes\")\n",
        "else:\n",
        "  print(\"no\")\n"
      ],
      "metadata": {
        "colab": {
          "base_uri": "https://localhost:8080/"
        },
        "id": "6nxBgQ6BWG4I",
        "outputId": "4428bd17-45be-408a-e02c-33548bef2130"
      },
      "execution_count": null,
      "outputs": [
        {
          "output_type": "stream",
          "name": "stdout",
          "text": [
            "guvi\n",
            "guvigeeks\n",
            "yes\n"
          ]
        }
      ]
    },
    {
      "cell_type": "markdown",
      "source": [
        "```\n",
        "Given 2 strings check whether they differ exacly by one character.If yes then print 'yes' otherwise print 'no'\n",
        "Input Size : |s| <= 100000(complexity O(nlogn) or O(n))\n",
        "Sample Testcase :\n",
        "INPUT\n",
        "codekata codekate\n",
        "OUTPUT\n",
        "yes\n",
        "```"
      ],
      "metadata": {
        "id": "Vqtopbw74cTw"
      }
    }
  ]
}